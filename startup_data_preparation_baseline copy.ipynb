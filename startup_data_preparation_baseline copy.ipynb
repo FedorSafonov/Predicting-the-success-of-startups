{
 "cells": [
  {
   "cell_type": "markdown",
   "id": "1df03648",
   "metadata": {
    "toc": true
   },
   "source": [
    "<h1>Оглавление<span class=\"tocSkip\"></span></h1>\n",
    "<div class=\"toc\"><ul class=\"toc-item\"><li><span><a href=\"#Загрузка-и-предобработка\" data-toc-modified-id=\"Загрузка-и-предобработка-1\"><span class=\"toc-item-num\">1&nbsp;&nbsp;</span>Загрузка и предобработка</a></span></li><li><span><a href=\"#Подготовка-датасетов\" data-toc-modified-id=\"Подготовка-датасетов-2\"><span class=\"toc-item-num\">2&nbsp;&nbsp;</span>Подготовка датасетов</a></span></li><li><span><a href=\"#Подготовка-данных\" data-toc-modified-id=\"Подготовка-данных-3\"><span class=\"toc-item-num\">3&nbsp;&nbsp;</span>Подготовка данных</a></span></li></ul></div>"
   ]
  },
  {
   "cell_type": "code",
   "execution_count": 1,
   "id": "9eb1d168",
   "metadata": {},
   "outputs": [],
   "source": [
    "import pandas as pd\n",
    "from sklearn.ensemble import RandomForestClassifier\n",
    "from sklearn.preprocessing import StandardScaler, OrdinalEncoder\n",
    "from sklearn.model_selection import train_test_split\n",
    "from sklearn.metrics import f1_score\n",
    "from sklearn.compose import make_column_transformer\n",
    "from sklearn.pipeline import make_pipeline\n",
    "import numpy as np\n",
    "\n",
    "from tqdm import tqdm\n",
    "import pandas as pd\n",
    "\n",
    "from pydantic import BaseModel\n",
    "from dotenv import load_dotenv, dotenv_values\n",
    "\n",
    "import datetime\n",
    "\n",
    "import random"
   ]
  },
  {
   "cell_type": "markdown",
   "id": "89cf9fcc",
   "metadata": {},
   "source": [
    "# Загрузка и предобработка"
   ]
  },
  {
   "cell_type": "code",
   "execution_count": 2,
   "id": "d1676d45",
   "metadata": {},
   "outputs": [
    {
     "name": "stdout",
     "output_type": "stream",
     "text": [
      "<class 'pandas.core.frame.DataFrame'>\n",
      "RangeIndex: 66368 entries, 0 to 66367\n",
      "Data columns (total 14 columns):\n",
      " #   Column             Non-Null Count  Dtype \n",
      "---  ------             --------------  ----- \n",
      " 0   permalink          66368 non-null  object\n",
      " 1   name               66367 non-null  object\n",
      " 2   homepage_url       61310 non-null  object\n",
      " 3   category_list      63220 non-null  object\n",
      " 4   funding_total_usd  66368 non-null  object\n",
      " 5   status             66368 non-null  object\n",
      " 6   country_code       59410 non-null  object\n",
      " 7   state_code         57821 non-null  object\n",
      " 8   region             58338 non-null  object\n",
      " 9   city               58340 non-null  object\n",
      " 10  funding_rounds     66368 non-null  int64 \n",
      " 11  founded_at         51147 non-null  object\n",
      " 12  first_funding_at   66344 non-null  object\n",
      " 13  last_funding_at    66368 non-null  object\n",
      "dtypes: int64(1), object(13)\n",
      "memory usage: 7.1+ MB\n"
     ]
    }
   ],
   "source": [
    "df = pd.read_csv('big_startup_secsees_dataset.csv')\n",
    "df.info()"
   ]
  },
  {
   "cell_type": "code",
   "execution_count": 3,
   "id": "0018ffc2",
   "metadata": {},
   "outputs": [
    {
     "data": {
      "text/html": [
       "<div>\n",
       "<style scoped>\n",
       "    .dataframe tbody tr th:only-of-type {\n",
       "        vertical-align: middle;\n",
       "    }\n",
       "\n",
       "    .dataframe tbody tr th {\n",
       "        vertical-align: top;\n",
       "    }\n",
       "\n",
       "    .dataframe thead th {\n",
       "        text-align: right;\n",
       "    }\n",
       "</style>\n",
       "<table border=\"1\" class=\"dataframe\">\n",
       "  <thead>\n",
       "    <tr style=\"text-align: right;\">\n",
       "      <th></th>\n",
       "      <th>permalink</th>\n",
       "      <th>name</th>\n",
       "      <th>homepage_url</th>\n",
       "      <th>category_list</th>\n",
       "      <th>funding_total_usd</th>\n",
       "      <th>status</th>\n",
       "      <th>country_code</th>\n",
       "      <th>state_code</th>\n",
       "      <th>region</th>\n",
       "      <th>city</th>\n",
       "      <th>funding_rounds</th>\n",
       "      <th>founded_at</th>\n",
       "      <th>first_funding_at</th>\n",
       "      <th>last_funding_at</th>\n",
       "    </tr>\n",
       "  </thead>\n",
       "  <tbody>\n",
       "    <tr>\n",
       "      <th>0</th>\n",
       "      <td>/organization/-fame</td>\n",
       "      <td>#fame</td>\n",
       "      <td>http://livfame.com</td>\n",
       "      <td>Media</td>\n",
       "      <td>10000000</td>\n",
       "      <td>operating</td>\n",
       "      <td>IND</td>\n",
       "      <td>16</td>\n",
       "      <td>Mumbai</td>\n",
       "      <td>Mumbai</td>\n",
       "      <td>1</td>\n",
       "      <td>NaN</td>\n",
       "      <td>2015-01-05</td>\n",
       "      <td>2015-01-05</td>\n",
       "    </tr>\n",
       "    <tr>\n",
       "      <th>1</th>\n",
       "      <td>/organization/-qounter</td>\n",
       "      <td>:Qounter</td>\n",
       "      <td>http://www.qounter.com</td>\n",
       "      <td>Application Platforms|Real Time|Social Network...</td>\n",
       "      <td>700000</td>\n",
       "      <td>operating</td>\n",
       "      <td>USA</td>\n",
       "      <td>DE</td>\n",
       "      <td>DE - Other</td>\n",
       "      <td>Delaware City</td>\n",
       "      <td>2</td>\n",
       "      <td>2014-09-04</td>\n",
       "      <td>2014-03-01</td>\n",
       "      <td>2014-10-14</td>\n",
       "    </tr>\n",
       "    <tr>\n",
       "      <th>2</th>\n",
       "      <td>/organization/-the-one-of-them-inc-</td>\n",
       "      <td>(THE) ONE of THEM,Inc.</td>\n",
       "      <td>http://oneofthem.jp</td>\n",
       "      <td>Apps|Games|Mobile</td>\n",
       "      <td>3406878</td>\n",
       "      <td>operating</td>\n",
       "      <td>NaN</td>\n",
       "      <td>NaN</td>\n",
       "      <td>NaN</td>\n",
       "      <td>NaN</td>\n",
       "      <td>1</td>\n",
       "      <td>NaN</td>\n",
       "      <td>2014-01-30</td>\n",
       "      <td>2014-01-30</td>\n",
       "    </tr>\n",
       "    <tr>\n",
       "      <th>3</th>\n",
       "      <td>/organization/0-6-com</td>\n",
       "      <td>0-6.com</td>\n",
       "      <td>http://www.0-6.com</td>\n",
       "      <td>Curated Web</td>\n",
       "      <td>2000000</td>\n",
       "      <td>operating</td>\n",
       "      <td>CHN</td>\n",
       "      <td>22</td>\n",
       "      <td>Beijing</td>\n",
       "      <td>Beijing</td>\n",
       "      <td>1</td>\n",
       "      <td>2007-01-01</td>\n",
       "      <td>2008-03-19</td>\n",
       "      <td>2008-03-19</td>\n",
       "    </tr>\n",
       "    <tr>\n",
       "      <th>4</th>\n",
       "      <td>/organization/004-technologies</td>\n",
       "      <td>004 Technologies</td>\n",
       "      <td>http://004gmbh.de/en/004-interact</td>\n",
       "      <td>Software</td>\n",
       "      <td>-</td>\n",
       "      <td>operating</td>\n",
       "      <td>USA</td>\n",
       "      <td>IL</td>\n",
       "      <td>Springfield, Illinois</td>\n",
       "      <td>Champaign</td>\n",
       "      <td>1</td>\n",
       "      <td>2010-01-01</td>\n",
       "      <td>2014-07-24</td>\n",
       "      <td>2014-07-24</td>\n",
       "    </tr>\n",
       "    <tr>\n",
       "      <th>...</th>\n",
       "      <td>...</td>\n",
       "      <td>...</td>\n",
       "      <td>...</td>\n",
       "      <td>...</td>\n",
       "      <td>...</td>\n",
       "      <td>...</td>\n",
       "      <td>...</td>\n",
       "      <td>...</td>\n",
       "      <td>...</td>\n",
       "      <td>...</td>\n",
       "      <td>...</td>\n",
       "      <td>...</td>\n",
       "      <td>...</td>\n",
       "      <td>...</td>\n",
       "    </tr>\n",
       "    <tr>\n",
       "      <th>66363</th>\n",
       "      <td>/organization/zznode-science-and-technology-co...</td>\n",
       "      <td>ZZNode Science and Technology</td>\n",
       "      <td>http://www.zznode.com</td>\n",
       "      <td>Enterprise Software</td>\n",
       "      <td>1587301</td>\n",
       "      <td>operating</td>\n",
       "      <td>CHN</td>\n",
       "      <td>22</td>\n",
       "      <td>Beijing</td>\n",
       "      <td>Beijing</td>\n",
       "      <td>1</td>\n",
       "      <td>NaN</td>\n",
       "      <td>2012-04-01</td>\n",
       "      <td>2012-04-01</td>\n",
       "    </tr>\n",
       "    <tr>\n",
       "      <th>66364</th>\n",
       "      <td>/organization/zzzzapp-com</td>\n",
       "      <td>Zzzzapp Wireless ltd.</td>\n",
       "      <td>http://www.zzzzapp.com</td>\n",
       "      <td>Advertising|Mobile|Web Development|Wireless</td>\n",
       "      <td>114304</td>\n",
       "      <td>operating</td>\n",
       "      <td>HRV</td>\n",
       "      <td>15</td>\n",
       "      <td>Split</td>\n",
       "      <td>Split</td>\n",
       "      <td>4</td>\n",
       "      <td>2012-05-13</td>\n",
       "      <td>2011-11-01</td>\n",
       "      <td>2014-03-01</td>\n",
       "    </tr>\n",
       "    <tr>\n",
       "      <th>66365</th>\n",
       "      <td>/organization/Áeron</td>\n",
       "      <td>ÁERON</td>\n",
       "      <td>http://www.aeron.hu/</td>\n",
       "      <td>NaN</td>\n",
       "      <td>-</td>\n",
       "      <td>operating</td>\n",
       "      <td>NaN</td>\n",
       "      <td>NaN</td>\n",
       "      <td>NaN</td>\n",
       "      <td>NaN</td>\n",
       "      <td>1</td>\n",
       "      <td>2011-01-01</td>\n",
       "      <td>2014-08-01</td>\n",
       "      <td>2014-08-01</td>\n",
       "    </tr>\n",
       "    <tr>\n",
       "      <th>66366</th>\n",
       "      <td>/organization/Ôasys-2</td>\n",
       "      <td>Ôasys</td>\n",
       "      <td>http://www.oasys.io/</td>\n",
       "      <td>Consumer Electronics|Internet of Things|Teleco...</td>\n",
       "      <td>18192</td>\n",
       "      <td>operating</td>\n",
       "      <td>USA</td>\n",
       "      <td>CA</td>\n",
       "      <td>SF Bay Area</td>\n",
       "      <td>San Francisco</td>\n",
       "      <td>1</td>\n",
       "      <td>2014-01-01</td>\n",
       "      <td>2015-01-01</td>\n",
       "      <td>2015-01-01</td>\n",
       "    </tr>\n",
       "    <tr>\n",
       "      <th>66367</th>\n",
       "      <td>/organization/İnovatiff-reklam-ve-tanıtım-hizm...</td>\n",
       "      <td>İnovatiff Reklam ve Tanıtım Hizmetleri Tic</td>\n",
       "      <td>http://inovatiff.com</td>\n",
       "      <td>Consumer Goods|E-Commerce|Internet</td>\n",
       "      <td>14851</td>\n",
       "      <td>operating</td>\n",
       "      <td>NaN</td>\n",
       "      <td>NaN</td>\n",
       "      <td>NaN</td>\n",
       "      <td>NaN</td>\n",
       "      <td>1</td>\n",
       "      <td>NaN</td>\n",
       "      <td>2013-10-01</td>\n",
       "      <td>2013-10-01</td>\n",
       "    </tr>\n",
       "  </tbody>\n",
       "</table>\n",
       "<p>66368 rows × 14 columns</p>\n",
       "</div>"
      ],
      "text/plain": [
       "                                               permalink  \\\n",
       "0                                    /organization/-fame   \n",
       "1                                 /organization/-qounter   \n",
       "2                    /organization/-the-one-of-them-inc-   \n",
       "3                                  /organization/0-6-com   \n",
       "4                         /organization/004-technologies   \n",
       "...                                                  ...   \n",
       "66363  /organization/zznode-science-and-technology-co...   \n",
       "66364                          /organization/zzzzapp-com   \n",
       "66365                                /organization/Áeron   \n",
       "66366                              /organization/Ôasys-2   \n",
       "66367  /organization/İnovatiff-reklam-ve-tanıtım-hizm...   \n",
       "\n",
       "                                             name  \\\n",
       "0                                           #fame   \n",
       "1                                        :Qounter   \n",
       "2                          (THE) ONE of THEM,Inc.   \n",
       "3                                         0-6.com   \n",
       "4                                004 Technologies   \n",
       "...                                           ...   \n",
       "66363               ZZNode Science and Technology   \n",
       "66364                       Zzzzapp Wireless ltd.   \n",
       "66365                                       ÁERON   \n",
       "66366                                       Ôasys   \n",
       "66367  İnovatiff Reklam ve Tanıtım Hizmetleri Tic   \n",
       "\n",
       "                            homepage_url  \\\n",
       "0                     http://livfame.com   \n",
       "1                 http://www.qounter.com   \n",
       "2                    http://oneofthem.jp   \n",
       "3                     http://www.0-6.com   \n",
       "4      http://004gmbh.de/en/004-interact   \n",
       "...                                  ...   \n",
       "66363              http://www.zznode.com   \n",
       "66364             http://www.zzzzapp.com   \n",
       "66365               http://www.aeron.hu/   \n",
       "66366               http://www.oasys.io/   \n",
       "66367               http://inovatiff.com   \n",
       "\n",
       "                                           category_list funding_total_usd  \\\n",
       "0                                                  Media          10000000   \n",
       "1      Application Platforms|Real Time|Social Network...            700000   \n",
       "2                                      Apps|Games|Mobile           3406878   \n",
       "3                                            Curated Web           2000000   \n",
       "4                                               Software                 -   \n",
       "...                                                  ...               ...   \n",
       "66363                                Enterprise Software           1587301   \n",
       "66364        Advertising|Mobile|Web Development|Wireless            114304   \n",
       "66365                                                NaN                 -   \n",
       "66366  Consumer Electronics|Internet of Things|Teleco...             18192   \n",
       "66367                 Consumer Goods|E-Commerce|Internet             14851   \n",
       "\n",
       "          status country_code state_code                 region  \\\n",
       "0      operating          IND         16                 Mumbai   \n",
       "1      operating          USA         DE             DE - Other   \n",
       "2      operating          NaN        NaN                    NaN   \n",
       "3      operating          CHN         22                Beijing   \n",
       "4      operating          USA         IL  Springfield, Illinois   \n",
       "...          ...          ...        ...                    ...   \n",
       "66363  operating          CHN         22                Beijing   \n",
       "66364  operating          HRV         15                  Split   \n",
       "66365  operating          NaN        NaN                    NaN   \n",
       "66366  operating          USA         CA            SF Bay Area   \n",
       "66367  operating          NaN        NaN                    NaN   \n",
       "\n",
       "                city  funding_rounds  founded_at first_funding_at  \\\n",
       "0             Mumbai               1         NaN       2015-01-05   \n",
       "1      Delaware City               2  2014-09-04       2014-03-01   \n",
       "2                NaN               1         NaN       2014-01-30   \n",
       "3            Beijing               1  2007-01-01       2008-03-19   \n",
       "4          Champaign               1  2010-01-01       2014-07-24   \n",
       "...              ...             ...         ...              ...   \n",
       "66363        Beijing               1         NaN       2012-04-01   \n",
       "66364          Split               4  2012-05-13       2011-11-01   \n",
       "66365            NaN               1  2011-01-01       2014-08-01   \n",
       "66366  San Francisco               1  2014-01-01       2015-01-01   \n",
       "66367            NaN               1         NaN       2013-10-01   \n",
       "\n",
       "      last_funding_at  \n",
       "0          2015-01-05  \n",
       "1          2014-10-14  \n",
       "2          2014-01-30  \n",
       "3          2008-03-19  \n",
       "4          2014-07-24  \n",
       "...               ...  \n",
       "66363      2012-04-01  \n",
       "66364      2014-03-01  \n",
       "66365      2014-08-01  \n",
       "66366      2015-01-01  \n",
       "66367      2013-10-01  \n",
       "\n",
       "[66368 rows x 14 columns]"
      ]
     },
     "execution_count": 3,
     "metadata": {},
     "output_type": "execute_result"
    }
   ],
   "source": [
    "df"
   ]
  },
  {
   "cell_type": "code",
   "execution_count": 4,
   "id": "4133e4d4",
   "metadata": {},
   "outputs": [],
   "source": [
    "df[['founded_at', 'first_funding_at','last_funding_at']] = df[['founded_at', 'first_funding_at','last_funding_at']].apply(pd.to_datetime, errors='coerce')\n",
    "df['funding_total_usd'] = pd.to_numeric(df.funding_total_usd, errors='coerce')\n",
    "df.loc[df['status']=='ipo', 'status'] = 'operating'\n",
    "df.loc[df['status']=='acquired', 'status'] = 'operating'"
   ]
  },
  {
   "cell_type": "code",
   "execution_count": 5,
   "id": "a0afea8d",
   "metadata": {},
   "outputs": [
    {
     "data": {
      "text/html": [
       "<div>\n",
       "<style scoped>\n",
       "    .dataframe tbody tr th:only-of-type {\n",
       "        vertical-align: middle;\n",
       "    }\n",
       "\n",
       "    .dataframe tbody tr th {\n",
       "        vertical-align: top;\n",
       "    }\n",
       "\n",
       "    .dataframe thead th {\n",
       "        text-align: right;\n",
       "    }\n",
       "</style>\n",
       "<table border=\"1\" class=\"dataframe\">\n",
       "  <thead>\n",
       "    <tr style=\"text-align: right;\">\n",
       "      <th></th>\n",
       "      <th>permalink</th>\n",
       "      <th>name</th>\n",
       "      <th>homepage_url</th>\n",
       "      <th>category_list</th>\n",
       "      <th>funding_total_usd</th>\n",
       "      <th>status</th>\n",
       "      <th>country_code</th>\n",
       "      <th>state_code</th>\n",
       "      <th>region</th>\n",
       "      <th>city</th>\n",
       "      <th>funding_rounds</th>\n",
       "      <th>founded_at</th>\n",
       "      <th>first_funding_at</th>\n",
       "      <th>last_funding_at</th>\n",
       "    </tr>\n",
       "  </thead>\n",
       "  <tbody>\n",
       "    <tr>\n",
       "      <th>34</th>\n",
       "      <td>/organization/10bestthings</td>\n",
       "      <td>10BestThings</td>\n",
       "      <td>http://10bestthings.com</td>\n",
       "      <td>Curated Web</td>\n",
       "      <td>50000.0</td>\n",
       "      <td>closed</td>\n",
       "      <td>USA</td>\n",
       "      <td>OH</td>\n",
       "      <td>Cleveland</td>\n",
       "      <td>Cleveland</td>\n",
       "      <td>1</td>\n",
       "      <td>2009-04-01</td>\n",
       "      <td>2009-04-01</td>\n",
       "      <td>2009-04-01</td>\n",
       "    </tr>\n",
       "    <tr>\n",
       "      <th>47</th>\n",
       "      <td>/organization/11i-solutions</td>\n",
       "      <td>11i Solutions</td>\n",
       "      <td>http://www.11isolutions.com</td>\n",
       "      <td>Enterprise Software</td>\n",
       "      <td>1800000.0</td>\n",
       "      <td>closed</td>\n",
       "      <td>USA</td>\n",
       "      <td>AL</td>\n",
       "      <td>Huntsville</td>\n",
       "      <td>Huntsville</td>\n",
       "      <td>1</td>\n",
       "      <td>NaT</td>\n",
       "      <td>2011-03-22</td>\n",
       "      <td>2011-03-22</td>\n",
       "    </tr>\n",
       "    <tr>\n",
       "      <th>76</th>\n",
       "      <td>/organization/169-st</td>\n",
       "      <td>169 ST.</td>\n",
       "      <td>http://www.junebugreview.com</td>\n",
       "      <td>Entertainment|Games</td>\n",
       "      <td>50000.0</td>\n",
       "      <td>closed</td>\n",
       "      <td>USA</td>\n",
       "      <td>FL</td>\n",
       "      <td>Orlando</td>\n",
       "      <td>Lake Mary</td>\n",
       "      <td>1</td>\n",
       "      <td>2009-05-15</td>\n",
       "      <td>2009-06-01</td>\n",
       "      <td>2009-06-01</td>\n",
       "    </tr>\n",
       "    <tr>\n",
       "      <th>85</th>\n",
       "      <td>/organization/180solutions</td>\n",
       "      <td>180Solutions</td>\n",
       "      <td>NaN</td>\n",
       "      <td>Advertising|Advertising Platforms|Promotional</td>\n",
       "      <td>40000000.0</td>\n",
       "      <td>closed</td>\n",
       "      <td>USA</td>\n",
       "      <td>WA</td>\n",
       "      <td>Seattle</td>\n",
       "      <td>Bellevue</td>\n",
       "      <td>1</td>\n",
       "      <td>NaT</td>\n",
       "      <td>2004-04-05</td>\n",
       "      <td>2004-04-05</td>\n",
       "    </tr>\n",
       "    <tr>\n",
       "      <th>88</th>\n",
       "      <td>/organization/1bib</td>\n",
       "      <td>1bib</td>\n",
       "      <td>http://www.1bib.com</td>\n",
       "      <td>Cars|Curated Web</td>\n",
       "      <td>NaN</td>\n",
       "      <td>closed</td>\n",
       "      <td>CHN</td>\n",
       "      <td>30</td>\n",
       "      <td>Guangzhou</td>\n",
       "      <td>Guangzhou</td>\n",
       "      <td>1</td>\n",
       "      <td>2006-01-01</td>\n",
       "      <td>2008-02-07</td>\n",
       "      <td>2008-02-07</td>\n",
       "    </tr>\n",
       "    <tr>\n",
       "      <th>...</th>\n",
       "      <td>...</td>\n",
       "      <td>...</td>\n",
       "      <td>...</td>\n",
       "      <td>...</td>\n",
       "      <td>...</td>\n",
       "      <td>...</td>\n",
       "      <td>...</td>\n",
       "      <td>...</td>\n",
       "      <td>...</td>\n",
       "      <td>...</td>\n",
       "      <td>...</td>\n",
       "      <td>...</td>\n",
       "      <td>...</td>\n",
       "      <td>...</td>\n",
       "    </tr>\n",
       "    <tr>\n",
       "      <th>66318</th>\n",
       "      <td>/organization/zuvvu</td>\n",
       "      <td>Zuvvu</td>\n",
       "      <td>http://zuvvu.com</td>\n",
       "      <td>Advertising|Social Media Advertising|Social Me...</td>\n",
       "      <td>12000.0</td>\n",
       "      <td>closed</td>\n",
       "      <td>IND</td>\n",
       "      <td>9</td>\n",
       "      <td>Ahmedabad</td>\n",
       "      <td>Ahmadabad</td>\n",
       "      <td>1</td>\n",
       "      <td>2010-06-01</td>\n",
       "      <td>2011-11-01</td>\n",
       "      <td>2011-11-01</td>\n",
       "    </tr>\n",
       "    <tr>\n",
       "      <th>66335</th>\n",
       "      <td>/organization/zygo</td>\n",
       "      <td>Zygo Communications</td>\n",
       "      <td>http://www.zygocommunications.com/who</td>\n",
       "      <td>Mobile|SMS</td>\n",
       "      <td>NaN</td>\n",
       "      <td>closed</td>\n",
       "      <td>GBR</td>\n",
       "      <td>H9</td>\n",
       "      <td>London</td>\n",
       "      <td>London</td>\n",
       "      <td>1</td>\n",
       "      <td>2005-06-21</td>\n",
       "      <td>2007-11-19</td>\n",
       "      <td>2007-11-19</td>\n",
       "    </tr>\n",
       "    <tr>\n",
       "      <th>66338</th>\n",
       "      <td>/organization/zykis</td>\n",
       "      <td>Zykis</td>\n",
       "      <td>http://zykis.com</td>\n",
       "      <td>Automotive|Data Security|Education|Kids|Portal...</td>\n",
       "      <td>800000.0</td>\n",
       "      <td>closed</td>\n",
       "      <td>USA</td>\n",
       "      <td>CA</td>\n",
       "      <td>Anaheim</td>\n",
       "      <td>Irvine</td>\n",
       "      <td>1</td>\n",
       "      <td>2006-10-27</td>\n",
       "      <td>2006-10-27</td>\n",
       "      <td>2006-10-27</td>\n",
       "    </tr>\n",
       "    <tr>\n",
       "      <th>66343</th>\n",
       "      <td>/organization/zymetis</td>\n",
       "      <td>Zymetis</td>\n",
       "      <td>http://www.zymetis.com</td>\n",
       "      <td>Biotechnology</td>\n",
       "      <td>2257464.0</td>\n",
       "      <td>closed</td>\n",
       "      <td>USA</td>\n",
       "      <td>MD</td>\n",
       "      <td>Washington, D.C.</td>\n",
       "      <td>College Park</td>\n",
       "      <td>3</td>\n",
       "      <td>2006-01-01</td>\n",
       "      <td>2007-01-01</td>\n",
       "      <td>2010-01-31</td>\n",
       "    </tr>\n",
       "    <tr>\n",
       "      <th>66358</th>\n",
       "      <td>/organization/zyraz-technology</td>\n",
       "      <td>Zyraz Technology</td>\n",
       "      <td>http://www.zyraz.com</td>\n",
       "      <td>Biotechnology</td>\n",
       "      <td>15419877.0</td>\n",
       "      <td>closed</td>\n",
       "      <td>MYS</td>\n",
       "      <td>14</td>\n",
       "      <td>MYS - Other</td>\n",
       "      <td>Damansara New Village</td>\n",
       "      <td>4</td>\n",
       "      <td>1994-01-01</td>\n",
       "      <td>2008-01-01</td>\n",
       "      <td>2013-02-15</td>\n",
       "    </tr>\n",
       "  </tbody>\n",
       "</table>\n",
       "<p>6238 rows × 14 columns</p>\n",
       "</div>"
      ],
      "text/plain": [
       "                            permalink                 name  \\\n",
       "34         /organization/10bestthings         10BestThings   \n",
       "47        /organization/11i-solutions        11i Solutions   \n",
       "76               /organization/169-st              169 ST.   \n",
       "85         /organization/180solutions         180Solutions   \n",
       "88                 /organization/1bib                 1bib   \n",
       "...                               ...                  ...   \n",
       "66318             /organization/zuvvu                Zuvvu   \n",
       "66335              /organization/zygo  Zygo Communications   \n",
       "66338             /organization/zykis                Zykis   \n",
       "66343           /organization/zymetis              Zymetis   \n",
       "66358  /organization/zyraz-technology     Zyraz Technology   \n",
       "\n",
       "                                homepage_url  \\\n",
       "34                   http://10bestthings.com   \n",
       "47               http://www.11isolutions.com   \n",
       "76              http://www.junebugreview.com   \n",
       "85                                       NaN   \n",
       "88                       http://www.1bib.com   \n",
       "...                                      ...   \n",
       "66318                       http://zuvvu.com   \n",
       "66335  http://www.zygocommunications.com/who   \n",
       "66338                       http://zykis.com   \n",
       "66343                 http://www.zymetis.com   \n",
       "66358                   http://www.zyraz.com   \n",
       "\n",
       "                                           category_list  funding_total_usd  \\\n",
       "34                                           Curated Web            50000.0   \n",
       "47                                   Enterprise Software          1800000.0   \n",
       "76                                   Entertainment|Games            50000.0   \n",
       "85         Advertising|Advertising Platforms|Promotional         40000000.0   \n",
       "88                                      Cars|Curated Web                NaN   \n",
       "...                                                  ...                ...   \n",
       "66318  Advertising|Social Media Advertising|Social Me...            12000.0   \n",
       "66335                                         Mobile|SMS                NaN   \n",
       "66338  Automotive|Data Security|Education|Kids|Portal...           800000.0   \n",
       "66343                                      Biotechnology          2257464.0   \n",
       "66358                                      Biotechnology         15419877.0   \n",
       "\n",
       "       status country_code state_code            region  \\\n",
       "34     closed          USA         OH         Cleveland   \n",
       "47     closed          USA         AL        Huntsville   \n",
       "76     closed          USA         FL           Orlando   \n",
       "85     closed          USA         WA           Seattle   \n",
       "88     closed          CHN         30         Guangzhou   \n",
       "...       ...          ...        ...               ...   \n",
       "66318  closed          IND          9         Ahmedabad   \n",
       "66335  closed          GBR         H9            London   \n",
       "66338  closed          USA         CA           Anaheim   \n",
       "66343  closed          USA         MD  Washington, D.C.   \n",
       "66358  closed          MYS         14       MYS - Other   \n",
       "\n",
       "                        city  funding_rounds founded_at first_funding_at  \\\n",
       "34                 Cleveland               1 2009-04-01       2009-04-01   \n",
       "47                Huntsville               1        NaT       2011-03-22   \n",
       "76                 Lake Mary               1 2009-05-15       2009-06-01   \n",
       "85                  Bellevue               1        NaT       2004-04-05   \n",
       "88                 Guangzhou               1 2006-01-01       2008-02-07   \n",
       "...                      ...             ...        ...              ...   \n",
       "66318              Ahmadabad               1 2010-06-01       2011-11-01   \n",
       "66335                 London               1 2005-06-21       2007-11-19   \n",
       "66338                 Irvine               1 2006-10-27       2006-10-27   \n",
       "66343           College Park               3 2006-01-01       2007-01-01   \n",
       "66358  Damansara New Village               4 1994-01-01       2008-01-01   \n",
       "\n",
       "      last_funding_at  \n",
       "34         2009-04-01  \n",
       "47         2011-03-22  \n",
       "76         2009-06-01  \n",
       "85         2004-04-05  \n",
       "88         2008-02-07  \n",
       "...               ...  \n",
       "66318      2011-11-01  \n",
       "66335      2007-11-19  \n",
       "66338      2006-10-27  \n",
       "66343      2010-01-31  \n",
       "66358      2013-02-15  \n",
       "\n",
       "[6238 rows x 14 columns]"
      ]
     },
     "execution_count": 5,
     "metadata": {},
     "output_type": "execute_result"
    }
   ],
   "source": [
    "df[df['status']=='closed']"
   ]
  },
  {
   "cell_type": "code",
   "execution_count": 6,
   "id": "a4c2ca39",
   "metadata": {},
   "outputs": [
    {
     "data": {
      "text/plain": [
       "array(['operating', 'closed'], dtype=object)"
      ]
     },
     "execution_count": 6,
     "metadata": {},
     "output_type": "execute_result"
    }
   ],
   "source": [
    "df['status'].unique()"
   ]
  },
  {
   "cell_type": "code",
   "execution_count": 7,
   "id": "b6de637f",
   "metadata": {},
   "outputs": [
    {
     "data": {
      "text/plain": [
       "permalink                0\n",
       "name                     1\n",
       "homepage_url          5058\n",
       "category_list         3148\n",
       "funding_total_usd    12785\n",
       "status                   0\n",
       "country_code          6958\n",
       "state_code            8547\n",
       "region                8030\n",
       "city                  8028\n",
       "funding_rounds           0\n",
       "founded_at           15225\n",
       "first_funding_at        27\n",
       "last_funding_at          0\n",
       "dtype: int64"
      ]
     },
     "execution_count": 7,
     "metadata": {},
     "output_type": "execute_result"
    }
   ],
   "source": [
    "df.isna().sum()"
   ]
  },
  {
   "cell_type": "code",
   "execution_count": 8,
   "id": "1566f750",
   "metadata": {},
   "outputs": [],
   "source": [
    "def set_founded_at(x):\n",
    "    founded_at_date = x - datetime.timedelta(random.randint(180,720))\n",
    "    return founded_at_date\n",
    "\n",
    "def set_closed_at(row):\n",
    "    if row['status'] == 'closed':\n",
    "        return row['last_funding_at'] + datetime.timedelta(random.randint(360,720))\n",
    "    else:\n",
    "        return np.nan"
   ]
  },
  {
   "cell_type": "code",
   "execution_count": 9,
   "id": "0c390f80",
   "metadata": {},
   "outputs": [],
   "source": [
    "df.loc[df['founded_at'].isna(), 'founded_at'] = df.loc[df['founded_at'].isna(), 'first_funding_at'].apply(set_founded_at)"
   ]
  },
  {
   "cell_type": "code",
   "execution_count": 10,
   "id": "6c1b562f",
   "metadata": {},
   "outputs": [],
   "source": [
    "df['closed_at'] = df.apply(set_closed_at, axis=1)\n",
    "\n",
    "# db date 2018-01-01"
   ]
  },
  {
   "cell_type": "code",
   "execution_count": 11,
   "id": "4e056c19",
   "metadata": {},
   "outputs": [
    {
     "data": {
      "text/plain": [
       "permalink                0\n",
       "name                     1\n",
       "homepage_url          5058\n",
       "category_list         3148\n",
       "funding_total_usd    12785\n",
       "status                   0\n",
       "country_code          6958\n",
       "state_code            8547\n",
       "region                8030\n",
       "city                  8028\n",
       "funding_rounds           0\n",
       "founded_at               4\n",
       "first_funding_at        27\n",
       "last_funding_at          0\n",
       "closed_at            60130\n",
       "dtype: int64"
      ]
     },
     "execution_count": 11,
     "metadata": {},
     "output_type": "execute_result"
    }
   ],
   "source": [
    "df.isna().sum()"
   ]
  },
  {
   "cell_type": "code",
   "execution_count": 12,
   "id": "21aa3d5e",
   "metadata": {},
   "outputs": [],
   "source": [
    "df = df.dropna(subset='founded_at')"
   ]
  },
  {
   "cell_type": "code",
   "execution_count": 13,
   "id": "a03dd91b",
   "metadata": {},
   "outputs": [
    {
     "data": {
      "text/plain": [
       "permalink                0\n",
       "name                     1\n",
       "homepage_url          5058\n",
       "category_list         3148\n",
       "funding_total_usd    12784\n",
       "status                   0\n",
       "country_code          6958\n",
       "state_code            8547\n",
       "region                8030\n",
       "city                  8028\n",
       "funding_rounds           0\n",
       "founded_at               0\n",
       "first_funding_at        23\n",
       "last_funding_at          0\n",
       "closed_at            60126\n",
       "dtype: int64"
      ]
     },
     "execution_count": 13,
     "metadata": {},
     "output_type": "execute_result"
    }
   ],
   "source": [
    "df.isna().sum()"
   ]
  },
  {
   "cell_type": "code",
   "execution_count": 14,
   "id": "2157d2e0",
   "metadata": {},
   "outputs": [],
   "source": [
    "df = df.drop(columns=['permalink', 'homepage_url'])"
   ]
  },
  {
   "cell_type": "code",
   "execution_count": 15,
   "id": "6baa0040",
   "metadata": {},
   "outputs": [
    {
     "data": {
      "text/plain": [
       "['name',\n",
       " 'category_list',\n",
       " 'funding_total_usd',\n",
       " 'status',\n",
       " 'country_code',\n",
       " 'state_code',\n",
       " 'region',\n",
       " 'city',\n",
       " 'funding_rounds',\n",
       " 'founded_at',\n",
       " 'first_funding_at',\n",
       " 'last_funding_at',\n",
       " 'closed_at']"
      ]
     },
     "execution_count": 15,
     "metadata": {},
     "output_type": "execute_result"
    }
   ],
   "source": [
    "df.columns.tolist()"
   ]
  },
  {
   "cell_type": "code",
   "execution_count": 16,
   "id": "11abb989",
   "metadata": {},
   "outputs": [
    {
     "data": {
      "text/plain": [
       "(265, 13)"
      ]
     },
     "execution_count": 16,
     "metadata": {},
     "output_type": "execute_result"
    }
   ],
   "source": [
    "df[df.duplicated(subset=['name'])].shape"
   ]
  },
  {
   "cell_type": "code",
   "execution_count": 17,
   "id": "89c39835",
   "metadata": {},
   "outputs": [],
   "source": [
    "df = df[~df.duplicated(subset=['name'])]"
   ]
  },
  {
   "cell_type": "markdown",
   "id": "adffda16",
   "metadata": {},
   "source": [
    "# Подготовка датасетов"
   ]
  },
  {
   "cell_type": "code",
   "execution_count": 18,
   "id": "05f8361a",
   "metadata": {},
   "outputs": [],
   "source": [
    "train_df, test_df = train_test_split(df, stratify=df['status'], random_state=42, test_size=0.2)\n",
    "submit_df = test_df.copy()"
   ]
  },
  {
   "cell_type": "code",
   "execution_count": 19,
   "id": "401c61b9",
   "metadata": {},
   "outputs": [
    {
     "data": {
      "text/plain": [
       "((52879, 13), (13220, 13))"
      ]
     },
     "execution_count": 19,
     "metadata": {},
     "output_type": "execute_result"
    }
   ],
   "source": [
    "train_df.shape, test_df.shape"
   ]
  },
  {
   "cell_type": "code",
   "execution_count": 20,
   "id": "19d3979b",
   "metadata": {},
   "outputs": [
    {
     "data": {
      "text/html": [
       "<div>\n",
       "<style scoped>\n",
       "    .dataframe tbody tr th:only-of-type {\n",
       "        vertical-align: middle;\n",
       "    }\n",
       "\n",
       "    .dataframe tbody tr th {\n",
       "        vertical-align: top;\n",
       "    }\n",
       "\n",
       "    .dataframe thead th {\n",
       "        text-align: right;\n",
       "    }\n",
       "</style>\n",
       "<table border=\"1\" class=\"dataframe\">\n",
       "  <thead>\n",
       "    <tr style=\"text-align: right;\">\n",
       "      <th></th>\n",
       "      <th>name</th>\n",
       "      <th>category_list</th>\n",
       "      <th>funding_total_usd</th>\n",
       "      <th>status</th>\n",
       "      <th>country_code</th>\n",
       "      <th>state_code</th>\n",
       "      <th>region</th>\n",
       "      <th>city</th>\n",
       "      <th>funding_rounds</th>\n",
       "      <th>founded_at</th>\n",
       "      <th>first_funding_at</th>\n",
       "      <th>last_funding_at</th>\n",
       "      <th>closed_at</th>\n",
       "    </tr>\n",
       "  </thead>\n",
       "  <tbody>\n",
       "    <tr>\n",
       "      <th>33534</th>\n",
       "      <td>Lunchgate</td>\n",
       "      <td>Online Reservations|Restaurants</td>\n",
       "      <td>828626.0</td>\n",
       "      <td>operating</td>\n",
       "      <td>CHE</td>\n",
       "      <td>25</td>\n",
       "      <td>Zurich</td>\n",
       "      <td>Zürich</td>\n",
       "      <td>2</td>\n",
       "      <td>2010-02-08</td>\n",
       "      <td>2011-05-01</td>\n",
       "      <td>2014-12-01</td>\n",
       "      <td>NaT</td>\n",
       "    </tr>\n",
       "    <tr>\n",
       "      <th>16912</th>\n",
       "      <td>EarLens</td>\n",
       "      <td>Manufacturing|Medical|Medical Devices</td>\n",
       "      <td>42935019.0</td>\n",
       "      <td>operating</td>\n",
       "      <td>USA</td>\n",
       "      <td>CA</td>\n",
       "      <td>SF Bay Area</td>\n",
       "      <td>Redwood City</td>\n",
       "      <td>4</td>\n",
       "      <td>2005-01-01</td>\n",
       "      <td>2010-05-04</td>\n",
       "      <td>2014-02-25</td>\n",
       "      <td>NaT</td>\n",
       "    </tr>\n",
       "    <tr>\n",
       "      <th>48225</th>\n",
       "      <td>Reviva Pharmaceuticals</td>\n",
       "      <td>Biotechnology</td>\n",
       "      <td>35456381.0</td>\n",
       "      <td>operating</td>\n",
       "      <td>USA</td>\n",
       "      <td>CA</td>\n",
       "      <td>SF Bay Area</td>\n",
       "      <td>San Jose</td>\n",
       "      <td>3</td>\n",
       "      <td>2006-01-01</td>\n",
       "      <td>2012-08-20</td>\n",
       "      <td>2014-07-02</td>\n",
       "      <td>NaT</td>\n",
       "    </tr>\n",
       "    <tr>\n",
       "      <th>49489</th>\n",
       "      <td>Sancilio and Company</td>\n",
       "      <td>Health Care</td>\n",
       "      <td>22250000.0</td>\n",
       "      <td>operating</td>\n",
       "      <td>NaN</td>\n",
       "      <td>NaN</td>\n",
       "      <td>NaN</td>\n",
       "      <td>NaN</td>\n",
       "      <td>3</td>\n",
       "      <td>2004-01-01</td>\n",
       "      <td>2011-09-01</td>\n",
       "      <td>2014-07-18</td>\n",
       "      <td>NaT</td>\n",
       "    </tr>\n",
       "    <tr>\n",
       "      <th>64123</th>\n",
       "      <td>WireTough Cylinders</td>\n",
       "      <td>Manufacturing</td>\n",
       "      <td>NaN</td>\n",
       "      <td>operating</td>\n",
       "      <td>USA</td>\n",
       "      <td>VA</td>\n",
       "      <td>VA - Other</td>\n",
       "      <td>Bristol</td>\n",
       "      <td>1</td>\n",
       "      <td>2010-03-18</td>\n",
       "      <td>2012-02-01</td>\n",
       "      <td>2012-02-01</td>\n",
       "      <td>NaT</td>\n",
       "    </tr>\n",
       "  </tbody>\n",
       "</table>\n",
       "</div>"
      ],
      "text/plain": [
       "                         name                          category_list  \\\n",
       "33534               Lunchgate        Online Reservations|Restaurants   \n",
       "16912                 EarLens  Manufacturing|Medical|Medical Devices   \n",
       "48225  Reviva Pharmaceuticals                          Biotechnology   \n",
       "49489    Sancilio and Company                            Health Care   \n",
       "64123     WireTough Cylinders                          Manufacturing   \n",
       "\n",
       "       funding_total_usd     status country_code state_code       region  \\\n",
       "33534           828626.0  operating          CHE         25       Zurich   \n",
       "16912         42935019.0  operating          USA         CA  SF Bay Area   \n",
       "48225         35456381.0  operating          USA         CA  SF Bay Area   \n",
       "49489         22250000.0  operating          NaN        NaN          NaN   \n",
       "64123                NaN  operating          USA         VA   VA - Other   \n",
       "\n",
       "               city  funding_rounds founded_at first_funding_at  \\\n",
       "33534        Zürich               2 2010-02-08       2011-05-01   \n",
       "16912  Redwood City               4 2005-01-01       2010-05-04   \n",
       "48225      San Jose               3 2006-01-01       2012-08-20   \n",
       "49489           NaN               3 2004-01-01       2011-09-01   \n",
       "64123       Bristol               1 2010-03-18       2012-02-01   \n",
       "\n",
       "      last_funding_at closed_at  \n",
       "33534      2014-12-01       NaT  \n",
       "16912      2014-02-25       NaT  \n",
       "48225      2014-07-02       NaT  \n",
       "49489      2014-07-18       NaT  \n",
       "64123      2012-02-01       NaT  "
      ]
     },
     "execution_count": 20,
     "metadata": {},
     "output_type": "execute_result"
    }
   ],
   "source": [
    "train_df.head()"
   ]
  },
  {
   "cell_type": "code",
   "execution_count": 21,
   "id": "2e158829",
   "metadata": {},
   "outputs": [
    {
     "data": {
      "text/plain": [
       "0"
      ]
     },
     "execution_count": 21,
     "metadata": {},
     "output_type": "execute_result"
    }
   ],
   "source": [
    "train_df.duplicated(subset=['name']).sum()"
   ]
  },
  {
   "cell_type": "code",
   "execution_count": 22,
   "id": "66faa75a",
   "metadata": {},
   "outputs": [
    {
     "data": {
      "text/plain": [
       "0"
      ]
     },
     "execution_count": 22,
     "metadata": {},
     "output_type": "execute_result"
    }
   ],
   "source": [
    "test_df.duplicated().sum()"
   ]
  },
  {
   "cell_type": "code",
   "execution_count": 23,
   "id": "5661ff83",
   "metadata": {},
   "outputs": [],
   "source": [
    "train_df.to_csv('kaggle_startups_train_01.csv', index=False)"
   ]
  },
  {
   "cell_type": "code",
   "execution_count": 24,
   "id": "22c5fcb6",
   "metadata": {},
   "outputs": [],
   "source": [
    "def fill_status_random(x):\n",
    "    statuses = ['operating', 'closed']\n",
    "    random_status = random.randint(0,1)\n",
    "    status = statuses[random_status]\n",
    "    return status\n",
    "\n",
    "def detect_outliers_date(dataset):\n",
    "    df = dataset.copy()\n",
    "    for column in ['founded_at', 'first_funding_at','last_funding_at']:\n",
    "        up ='2018-01-01'\n",
    "        down = '1970-01-01'\n",
    "        df = df[(df[column]>down) | (df[column]<up)]\n",
    "    df = df[~(df['closed_at']>up)]\n",
    "    return df"
   ]
  },
  {
   "cell_type": "markdown",
   "id": "2ebebd86",
   "metadata": {},
   "source": [
    "# Подготовка данных"
   ]
  },
  {
   "cell_type": "code",
   "execution_count": 25,
   "id": "dd6d2dd0",
   "metadata": {},
   "outputs": [],
   "source": [
    "test_df = detect_outliers_date(test_df)\n",
    "train_df = detect_outliers_date(train_df)"
   ]
  },
  {
   "cell_type": "code",
   "execution_count": 26,
   "id": "a716e048",
   "metadata": {},
   "outputs": [
    {
     "data": {
      "text/plain": [
       "((52857, 13), (13218, 13))"
      ]
     },
     "execution_count": 26,
     "metadata": {},
     "output_type": "execute_result"
    }
   ],
   "source": [
    "train_df.shape, test_df.shape"
   ]
  },
  {
   "cell_type": "code",
   "execution_count": 27,
   "id": "b064b90d",
   "metadata": {},
   "outputs": [
    {
     "name": "stdout",
     "output_type": "stream",
     "text": [
      "<class 'pandas.core.frame.DataFrame'>\n",
      "Int64Index: 52857 entries, 33534 to 3622\n",
      "Data columns (total 13 columns):\n",
      " #   Column             Non-Null Count  Dtype         \n",
      "---  ------             --------------  -----         \n",
      " 0   name               52856 non-null  object        \n",
      " 1   category_list      50353 non-null  object        \n",
      " 2   funding_total_usd  42732 non-null  float64       \n",
      " 3   status             52857 non-null  object        \n",
      " 4   country_code       47331 non-null  object        \n",
      " 5   state_code         46062 non-null  object        \n",
      " 6   region             46469 non-null  object        \n",
      " 7   city               46469 non-null  object        \n",
      " 8   funding_rounds     52857 non-null  int64         \n",
      " 9   founded_at         52857 non-null  datetime64[ns]\n",
      " 10  first_funding_at   52857 non-null  datetime64[ns]\n",
      " 11  last_funding_at    52857 non-null  datetime64[ns]\n",
      " 12  closed_at          4961 non-null   datetime64[ns]\n",
      "dtypes: datetime64[ns](4), float64(1), int64(1), object(7)\n",
      "memory usage: 5.6+ MB\n"
     ]
    }
   ],
   "source": [
    "train_df.info()"
   ]
  },
  {
   "cell_type": "code",
   "execution_count": 28,
   "id": "7f4585eb",
   "metadata": {
    "scrolled": false
   },
   "outputs": [
    {
     "data": {
      "text/plain": [
       "<AxesSubplot: >"
      ]
     },
     "execution_count": 28,
     "metadata": {},
     "output_type": "execute_result"
    },
    {
     "data": {
      "image/png": "[encoded data removed]",
      "text/plain": [
       "<Figure size 640x480 with 1 Axes>"
      ]
     },
     "metadata": {},
     "output_type": "display_data"
    }
   ],
   "source": [
    "train_df.status.value_counts().plot(kind='bar')"
   ]
  },
  {
   "cell_type": "code",
   "execution_count": 29,
   "id": "fcd09b33",
   "metadata": {},
   "outputs": [],
   "source": [
    "def calc_lifetime(row):\n",
    "    if row['status'] =='closed':\n",
    "        return (row['closed_at'] - row['founded_at']).days\n",
    "    else:\n",
    "        return (pd.to_datetime('2018-01-01') - row['founded_at']).days"
   ]
  },
  {
   "cell_type": "code",
   "execution_count": 30,
   "id": "58a592fa",
   "metadata": {},
   "outputs": [],
   "source": [
    "train_df['lifetime'] = train_df.apply(calc_lifetime, axis=1)\n",
    "train_df = train_df[~(train_df.lifetime < 0)]\n",
    "\n",
    "\n",
    "test_df['lifetime'] = test_df.apply(calc_lifetime, axis=1)\n",
    "test_df = test_df[~(test_df.lifetime < 0)]\n"
   ]
  },
  {
   "cell_type": "code",
   "execution_count": 31,
   "id": "2b7c1903",
   "metadata": {},
   "outputs": [],
   "source": [
    "# create test/sample/ground truth kaggle datasets\n",
    "\n",
    "\n",
    "ground_truth_df = test_df.copy()[['name', 'status']]\n",
    "sample_submit_df = test_df.copy()[['name', 'status']]\n",
    "\n",
    "ground_truth_df_public, ground_truth_df_private = train_test_split(ground_truth_df, test_size=0.5, \n",
    "                                                                   stratify=ground_truth_df['status'], \n",
    "                                                                   random_state=42)\n",
    "\n",
    "ground_truth_df.loc[ground_truth_df_public.index,'Usage'] = 'Public'\n",
    "ground_truth_df.loc[ground_truth_df_private.index,'Usage'] = 'Private'\n",
    "\n",
    "ground_truth_df.to_csv('kaggle_startups_ground_truth_01.csv', index=False)\n",
    "test_df.drop(columns=['status', 'lifetime']).to_csv('kaggle_startups_test_01.csv', index=False)\n",
    "sample_submit_df['status'] = sample_submit_df['status'].apply(fill_status_random)\n",
    "sample_submit_df.to_csv('kaggle_startups_sample_submit_01.csv', index=False)"
   ]
  },
  {
   "cell_type": "code",
   "execution_count": 32,
   "id": "b2577d4a",
   "metadata": {},
   "outputs": [
    {
     "data": {
      "text/plain": [
       "((13210, 14), (13210, 3), (13210, 2))"
      ]
     },
     "execution_count": 32,
     "metadata": {},
     "output_type": "execute_result"
    }
   ],
   "source": [
    "test_df.shape, ground_truth_df.shape, sample_submit_df.shape"
   ]
  },
  {
   "cell_type": "code",
   "execution_count": 33,
   "id": "d8d5c8cf",
   "metadata": {},
   "outputs": [
    {
     "data": {
      "text/plain": [
       "((52829, 14), (13210, 14))"
      ]
     },
     "execution_count": 33,
     "metadata": {},
     "output_type": "execute_result"
    }
   ],
   "source": [
    "train_df.shape, test_df.shape"
   ]
  },
  {
   "cell_type": "code",
   "execution_count": 34,
   "id": "95eb56f2",
   "metadata": {},
   "outputs": [],
   "source": [
    "train_df['lifetime_category'] = pd.cut(train_df.lifetime,bins=[0, 300, 1000, 100000 ], labels=['1-year', '3-year', '5-year'])\n",
    "test_df['lifetime_category'] = pd.cut(test_df.lifetime,bins=[0, 300, 1000, 100000 ], labels=['1-year', '3-year', '5-year'])"
   ]
  },
  {
   "cell_type": "code",
   "execution_count": 35,
   "id": "77041775",
   "metadata": {},
   "outputs": [],
   "source": [
    "train_X = train_df.drop(columns=['status', 'name', 'category_list'])\n",
    "train_y = train_df.status\n",
    "\n",
    "test_X = test_df.drop(columns=['status', 'name', 'category_list'])\n",
    "test_y = test_df.status"
   ]
  },
  {
   "cell_type": "code",
   "execution_count": 36,
   "id": "c1dc4206",
   "metadata": {},
   "outputs": [],
   "source": [
    "num_cols = train_X.select_dtypes(include='number').columns.to_list()\n",
    "cat_cols = train_X.select_dtypes(exclude=['number','datetime']).columns.to_list()\n"
   ]
  },
  {
   "cell_type": "code",
   "execution_count": 37,
   "id": "a96d869c",
   "metadata": {},
   "outputs": [
    {
     "data": {
      "text/plain": [
       "['funding_total_usd', 'funding_rounds', 'lifetime']"
      ]
     },
     "execution_count": 37,
     "metadata": {},
     "output_type": "execute_result"
    }
   ],
   "source": [
    "num_cols"
   ]
  },
  {
   "cell_type": "code",
   "execution_count": 38,
   "id": "1ceb4462",
   "metadata": {},
   "outputs": [
    {
     "data": {
      "text/plain": [
       "['country_code', 'state_code', 'region', 'city', 'lifetime_category']"
      ]
     },
     "execution_count": 38,
     "metadata": {},
     "output_type": "execute_result"
    }
   ],
   "source": [
    "cat_cols"
   ]
  },
  {
   "cell_type": "code",
   "execution_count": 39,
   "id": "e1a8aa6e",
   "metadata": {},
   "outputs": [],
   "source": [
    "prepocessing = make_column_transformer((StandardScaler(), num_cols), \n",
    "                                       (OrdinalEncoder(handle_unknown='use_encoded_value', unknown_value=-1), cat_cols), \n",
    "                                       remainder='drop')"
   ]
  },
  {
   "cell_type": "code",
   "execution_count": 43,
   "id": "5ec0954a",
   "metadata": {},
   "outputs": [
    {
     "name": "stdout",
     "output_type": "stream",
     "text": [
      "<class 'pandas.core.frame.DataFrame'>\n",
      "Int64Index: 52829 entries, 33534 to 3622\n",
      "Data columns (total 12 columns):\n",
      " #   Column             Non-Null Count  Dtype         \n",
      "---  ------             --------------  -----         \n",
      " 0   funding_total_usd  42710 non-null  float64       \n",
      " 1   country_code       47313 non-null  object        \n",
      " 2   state_code         46046 non-null  object        \n",
      " 3   region             46451 non-null  object        \n",
      " 4   city               46451 non-null  object        \n",
      " 5   funding_rounds     52829 non-null  int64         \n",
      " 6   founded_at         52829 non-null  datetime64[ns]\n",
      " 7   first_funding_at   52829 non-null  datetime64[ns]\n",
      " 8   last_funding_at    52829 non-null  datetime64[ns]\n",
      " 9   closed_at          4934 non-null   datetime64[ns]\n",
      " 10  lifetime           52829 non-null  int64         \n",
      " 11  lifetime_category  52829 non-null  category      \n",
      "dtypes: category(1), datetime64[ns](4), float64(1), int64(2), object(4)\n",
      "memory usage: 4.9+ MB\n"
     ]
    }
   ],
   "source": [
    "train_X.info()"
   ]
  },
  {
   "cell_type": "code",
   "execution_count": 40,
   "id": "ed9d8af8",
   "metadata": {},
   "outputs": [
    {
     "data": {
      "text/html": [
       "<style>#sk-container-id-1 {color: black;background-color: white;}#sk-container-id-1 pre{padding: 0;}#sk-container-id-1 div.sk-toggleable {background-color: white;}#sk-container-id-1 label.sk-toggleable__label {cursor: pointer;display: block;width: 100%;margin-bottom: 0;padding: 0.3em;box-sizing: border-box;text-align: center;}#sk-container-id-1 label.sk-toggleable__label-arrow:before {content: \"▸\";float: left;margin-right: 0.25em;color: #696969;}#sk-container-id-1 label.sk-toggleable__label-arrow:hover:before {color: black;}#sk-container-id-1 div.sk-estimator:hover label.sk-toggleable__label-arrow:before {color: black;}#sk-container-id-1 div.sk-toggleable__content {max-height: 0;max-width: 0;overflow: hidden;text-align: left;background-color: #f0f8ff;}#sk-container-id-1 div.sk-toggleable__content pre {margin: 0.2em;color: black;border-radius: 0.25em;background-color: #f0f8ff;}#sk-container-id-1 input.sk-toggleable__control:checked~div.sk-toggleable__content {max-height: 200px;max-width: 100%;overflow: auto;}#sk-container-id-1 input.sk-toggleable__control:checked~label.sk-toggleable__label-arrow:before {content: \"▾\";}#sk-container-id-1 div.sk-estimator input.sk-toggleable__control:checked~label.sk-toggleable__label {background-color: #d4ebff;}#sk-container-id-1 div.sk-label input.sk-toggleable__control:checked~label.sk-toggleable__label {background-color: #d4ebff;}#sk-container-id-1 input.sk-hidden--visually {border: 0;clip: rect(1px 1px 1px 1px);clip: rect(1px, 1px, 1px, 1px);height: 1px;margin: -1px;overflow: hidden;padding: 0;position: absolute;width: 1px;}#sk-container-id-1 div.sk-estimator {font-family: monospace;background-color: #f0f8ff;border: 1px dotted black;border-radius: 0.25em;box-sizing: border-box;margin-bottom: 0.5em;}#sk-container-id-1 div.sk-estimator:hover {background-color: #d4ebff;}#sk-container-id-1 div.sk-parallel-item::after {content: \"\";width: 100%;border-bottom: 1px solid gray;flex-grow: 1;}#sk-container-id-1 div.sk-label:hover label.sk-toggleable__label {background-color: #d4ebff;}#sk-container-id-1 div.sk-serial::before {content: \"\";position: absolute;border-left: 1px solid gray;box-sizing: border-box;top: 0;bottom: 0;left: 50%;z-index: 0;}#sk-container-id-1 div.sk-serial {display: flex;flex-direction: column;align-items: center;background-color: white;padding-right: 0.2em;padding-left: 0.2em;position: relative;}#sk-container-id-1 div.sk-item {position: relative;z-index: 1;}#sk-container-id-1 div.sk-parallel {display: flex;align-items: stretch;justify-content: center;background-color: white;position: relative;}#sk-container-id-1 div.sk-item::before, #sk-container-id-1 div.sk-parallel-item::before {content: \"\";position: absolute;border-left: 1px solid gray;box-sizing: border-box;top: 0;bottom: 0;left: 50%;z-index: -1;}#sk-container-id-1 div.sk-parallel-item {display: flex;flex-direction: column;z-index: 1;position: relative;background-color: white;}#sk-container-id-1 div.sk-parallel-item:first-child::after {align-self: flex-end;width: 50%;}#sk-container-id-1 div.sk-parallel-item:last-child::after {align-self: flex-start;width: 50%;}#sk-container-id-1 div.sk-parallel-item:only-child::after {width: 0;}#sk-container-id-1 div.sk-dashed-wrapped {border: 1px dashed gray;margin: 0 0.4em 0.5em 0.4em;box-sizing: border-box;padding-bottom: 0.4em;background-color: white;}#sk-container-id-1 div.sk-label label {font-family: monospace;font-weight: bold;display: inline-block;line-height: 1.2em;}#sk-container-id-1 div.sk-label-container {text-align: center;}#sk-container-id-1 div.sk-container {/* jupyter's `normalize.less` sets `[hidden] { display: none; }` but bootstrap.min.css set `[hidden] { display: none !important; }` so we also need the `!important` here to be able to override the default hidden behavior on the sphinx rendered scikit-learn.org. See: https://github.com/scikit-learn/scikit-learn/issues/21755 */display: inline-block !important;position: relative;}#sk-container-id-1 div.sk-text-repr-fallback {display: none;}</style><div id=\"sk-container-id-1\" class=\"sk-top-container\"><div class=\"sk-text-repr-fallback\"><pre>ColumnTransformer(transformers=[(&#x27;standardscaler&#x27;, StandardScaler(),\n",
       "                                 [&#x27;funding_total_usd&#x27;, &#x27;funding_rounds&#x27;,\n",
       "                                  &#x27;lifetime&#x27;]),\n",
       "                                (&#x27;ordinalencoder&#x27;,\n",
       "                                 OrdinalEncoder(handle_unknown=&#x27;use_encoded_value&#x27;,\n",
       "                                                unknown_value=-1),\n",
       "                                 [&#x27;country_code&#x27;, &#x27;state_code&#x27;, &#x27;region&#x27;,\n",
       "                                  &#x27;city&#x27;, &#x27;lifetime_category&#x27;])])</pre><b>In a Jupyter environment, please rerun this cell to show the HTML representation or trust the notebook. <br />On GitHub, the HTML representation is unable to render, please try loading this page with nbviewer.org.</b></div><div class=\"sk-container\" hidden><div class=\"sk-item sk-dashed-wrapped\"><div class=\"sk-label-container\"><div class=\"sk-label sk-toggleable\"><input class=\"sk-toggleable__control sk-hidden--visually\" id=\"sk-estimator-id-1\" type=\"checkbox\" ><label for=\"sk-estimator-id-1\" class=\"sk-toggleable__label sk-toggleable__label-arrow\">ColumnTransformer</label><div class=\"sk-toggleable__content\"><pre>ColumnTransformer(transformers=[(&#x27;standardscaler&#x27;, StandardScaler(),\n",
       "                                 [&#x27;funding_total_usd&#x27;, &#x27;funding_rounds&#x27;,\n",
       "                                  &#x27;lifetime&#x27;]),\n",
       "                                (&#x27;ordinalencoder&#x27;,\n",
       "                                 OrdinalEncoder(handle_unknown=&#x27;use_encoded_value&#x27;,\n",
       "                                                unknown_value=-1),\n",
       "                                 [&#x27;country_code&#x27;, &#x27;state_code&#x27;, &#x27;region&#x27;,\n",
       "                                  &#x27;city&#x27;, &#x27;lifetime_category&#x27;])])</pre></div></div></div><div class=\"sk-parallel\"><div class=\"sk-parallel-item\"><div class=\"sk-item\"><div class=\"sk-label-container\"><div class=\"sk-label sk-toggleable\"><input class=\"sk-toggleable__control sk-hidden--visually\" id=\"sk-estimator-id-2\" type=\"checkbox\" ><label for=\"sk-estimator-id-2\" class=\"sk-toggleable__label sk-toggleable__label-arrow\">standardscaler</label><div class=\"sk-toggleable__content\"><pre>[&#x27;funding_total_usd&#x27;, &#x27;funding_rounds&#x27;, &#x27;lifetime&#x27;]</pre></div></div></div><div class=\"sk-serial\"><div class=\"sk-item\"><div class=\"sk-estimator sk-toggleable\"><input class=\"sk-toggleable__control sk-hidden--visually\" id=\"sk-estimator-id-3\" type=\"checkbox\" ><label for=\"sk-estimator-id-3\" class=\"sk-toggleable__label sk-toggleable__label-arrow\">StandardScaler</label><div class=\"sk-toggleable__content\"><pre>StandardScaler()</pre></div></div></div></div></div></div><div class=\"sk-parallel-item\"><div class=\"sk-item\"><div class=\"sk-label-container\"><div class=\"sk-label sk-toggleable\"><input class=\"sk-toggleable__control sk-hidden--visually\" id=\"sk-estimator-id-4\" type=\"checkbox\" ><label for=\"sk-estimator-id-4\" class=\"sk-toggleable__label sk-toggleable__label-arrow\">ordinalencoder</label><div class=\"sk-toggleable__content\"><pre>[&#x27;country_code&#x27;, &#x27;state_code&#x27;, &#x27;region&#x27;, &#x27;city&#x27;, &#x27;lifetime_category&#x27;]</pre></div></div></div><div class=\"sk-serial\"><div class=\"sk-item\"><div class=\"sk-estimator sk-toggleable\"><input class=\"sk-toggleable__control sk-hidden--visually\" id=\"sk-estimator-id-5\" type=\"checkbox\" ><label for=\"sk-estimator-id-5\" class=\"sk-toggleable__label sk-toggleable__label-arrow\">OrdinalEncoder</label><div class=\"sk-toggleable__content\"><pre>OrdinalEncoder(handle_unknown=&#x27;use_encoded_value&#x27;, unknown_value=-1)</pre></div></div></div></div></div></div></div></div></div></div>"
      ],
      "text/plain": [
       "ColumnTransformer(transformers=[('standardscaler', StandardScaler(),\n",
       "                                 ['funding_total_usd', 'funding_rounds',\n",
       "                                  'lifetime']),\n",
       "                                ('ordinalencoder',\n",
       "                                 OrdinalEncoder(handle_unknown='use_encoded_value',\n",
       "                                                unknown_value=-1),\n",
       "                                 ['country_code', 'state_code', 'region',\n",
       "                                  'city', 'lifetime_category'])])"
      ]
     },
     "execution_count": 40,
     "metadata": {},
     "output_type": "execute_result"
    }
   ],
   "source": [
    "prepocessing"
   ]
  },
  {
   "cell_type": "code",
   "execution_count": 41,
   "id": "3b23e2bd",
   "metadata": {},
   "outputs": [],
   "source": [
    "from sklearn.ensemble import RandomForestClassifier\n",
    "\n",
    "pipeline = make_pipeline(prepocessing, RandomForestClassifier(n_estimators=300, max_depth=30, random_state=42, class_weight='balanced'))"
   ]
  },
  {
   "cell_type": "code",
   "execution_count": 55,
   "id": "c444684c",
   "metadata": {},
   "outputs": [],
   "source": [
    "train_X[num_cols] = train_X[num_cols].fillna(-1)\n",
    "test_X[num_cols] = test_X[num_cols].fillna(-1)\n",
    "\n",
    "train_X[cat_cols] = train_X[cat_cols].fillna('unknown')\n",
    "test_X[cat_cols] = test_X[cat_cols].fillna('unknown')"
   ]
  },
  {
   "cell_type": "code",
   "execution_count": 63,
   "id": "590c0e45",
   "metadata": {},
   "outputs": [
    {
     "data": {
      "text/html": [
       "<style>#sk-container-id-3 {color: black;background-color: white;}#sk-container-id-3 pre{padding: 0;}#sk-container-id-3 div.sk-toggleable {background-color: white;}#sk-container-id-3 label.sk-toggleable__label {cursor: pointer;display: block;width: 100%;margin-bottom: 0;padding: 0.3em;box-sizing: border-box;text-align: center;}#sk-container-id-3 label.sk-toggleable__label-arrow:before {content: \"▸\";float: left;margin-right: 0.25em;color: #696969;}#sk-container-id-3 label.sk-toggleable__label-arrow:hover:before {color: black;}#sk-container-id-3 div.sk-estimator:hover label.sk-toggleable__label-arrow:before {color: black;}#sk-container-id-3 div.sk-toggleable__content {max-height: 0;max-width: 0;overflow: hidden;text-align: left;background-color: #f0f8ff;}#sk-container-id-3 div.sk-toggleable__content pre {margin: 0.2em;color: black;border-radius: 0.25em;background-color: #f0f8ff;}#sk-container-id-3 input.sk-toggleable__control:checked~div.sk-toggleable__content {max-height: 200px;max-width: 100%;overflow: auto;}#sk-container-id-3 input.sk-toggleable__control:checked~label.sk-toggleable__label-arrow:before {content: \"▾\";}#sk-container-id-3 div.sk-estimator input.sk-toggleable__control:checked~label.sk-toggleable__label {background-color: #d4ebff;}#sk-container-id-3 div.sk-label input.sk-toggleable__control:checked~label.sk-toggleable__label {background-color: #d4ebff;}#sk-container-id-3 input.sk-hidden--visually {border: 0;clip: rect(1px 1px 1px 1px);clip: rect(1px, 1px, 1px, 1px);height: 1px;margin: -1px;overflow: hidden;padding: 0;position: absolute;width: 1px;}#sk-container-id-3 div.sk-estimator {font-family: monospace;background-color: #f0f8ff;border: 1px dotted black;border-radius: 0.25em;box-sizing: border-box;margin-bottom: 0.5em;}#sk-container-id-3 div.sk-estimator:hover {background-color: #d4ebff;}#sk-container-id-3 div.sk-parallel-item::after {content: \"\";width: 100%;border-bottom: 1px solid gray;flex-grow: 1;}#sk-container-id-3 div.sk-label:hover label.sk-toggleable__label {background-color: #d4ebff;}#sk-container-id-3 div.sk-serial::before {content: \"\";position: absolute;border-left: 1px solid gray;box-sizing: border-box;top: 0;bottom: 0;left: 50%;z-index: 0;}#sk-container-id-3 div.sk-serial {display: flex;flex-direction: column;align-items: center;background-color: white;padding-right: 0.2em;padding-left: 0.2em;position: relative;}#sk-container-id-3 div.sk-item {position: relative;z-index: 1;}#sk-container-id-3 div.sk-parallel {display: flex;align-items: stretch;justify-content: center;background-color: white;position: relative;}#sk-container-id-3 div.sk-item::before, #sk-container-id-3 div.sk-parallel-item::before {content: \"\";position: absolute;border-left: 1px solid gray;box-sizing: border-box;top: 0;bottom: 0;left: 50%;z-index: -1;}#sk-container-id-3 div.sk-parallel-item {display: flex;flex-direction: column;z-index: 1;position: relative;background-color: white;}#sk-container-id-3 div.sk-parallel-item:first-child::after {align-self: flex-end;width: 50%;}#sk-container-id-3 div.sk-parallel-item:last-child::after {align-self: flex-start;width: 50%;}#sk-container-id-3 div.sk-parallel-item:only-child::after {width: 0;}#sk-container-id-3 div.sk-dashed-wrapped {border: 1px dashed gray;margin: 0 0.4em 0.5em 0.4em;box-sizing: border-box;padding-bottom: 0.4em;background-color: white;}#sk-container-id-3 div.sk-label label {font-family: monospace;font-weight: bold;display: inline-block;line-height: 1.2em;}#sk-container-id-3 div.sk-label-container {text-align: center;}#sk-container-id-3 div.sk-container {/* jupyter's `normalize.less` sets `[hidden] { display: none; }` but bootstrap.min.css set `[hidden] { display: none !important; }` so we also need the `!important` here to be able to override the default hidden behavior on the sphinx rendered scikit-learn.org. See: https://github.com/scikit-learn/scikit-learn/issues/21755 */display: inline-block !important;position: relative;}#sk-container-id-3 div.sk-text-repr-fallback {display: none;}</style><div id=\"sk-container-id-3\" class=\"sk-top-container\"><div class=\"sk-text-repr-fallback\"><pre>Pipeline(steps=[(&#x27;columntransformer&#x27;,\n",
       "                 ColumnTransformer(transformers=[(&#x27;standardscaler&#x27;,\n",
       "                                                  StandardScaler(),\n",
       "                                                  [&#x27;funding_total_usd&#x27;,\n",
       "                                                   &#x27;funding_rounds&#x27;,\n",
       "                                                   &#x27;lifetime&#x27;]),\n",
       "                                                 (&#x27;ordinalencoder&#x27;,\n",
       "                                                  OrdinalEncoder(handle_unknown=&#x27;use_encoded_value&#x27;,\n",
       "                                                                 unknown_value=-1),\n",
       "                                                  [&#x27;country_code&#x27;, &#x27;state_code&#x27;,\n",
       "                                                   &#x27;region&#x27;, &#x27;city&#x27;,\n",
       "                                                   &#x27;lifetime_category&#x27;])])),\n",
       "                (&#x27;randomforestclassifier&#x27;,\n",
       "                 RandomForestClassifier(class_weight=&#x27;balanced&#x27;, max_depth=30,\n",
       "                                        n_estimators=300, random_state=42))])</pre><b>In a Jupyter environment, please rerun this cell to show the HTML representation or trust the notebook. <br />On GitHub, the HTML representation is unable to render, please try loading this page with nbviewer.org.</b></div><div class=\"sk-container\" hidden><div class=\"sk-item sk-dashed-wrapped\"><div class=\"sk-label-container\"><div class=\"sk-label sk-toggleable\"><input class=\"sk-toggleable__control sk-hidden--visually\" id=\"sk-estimator-id-13\" type=\"checkbox\" ><label for=\"sk-estimator-id-13\" class=\"sk-toggleable__label sk-toggleable__label-arrow\">Pipeline</label><div class=\"sk-toggleable__content\"><pre>Pipeline(steps=[(&#x27;columntransformer&#x27;,\n",
       "                 ColumnTransformer(transformers=[(&#x27;standardscaler&#x27;,\n",
       "                                                  StandardScaler(),\n",
       "                                                  [&#x27;funding_total_usd&#x27;,\n",
       "                                                   &#x27;funding_rounds&#x27;,\n",
       "                                                   &#x27;lifetime&#x27;]),\n",
       "                                                 (&#x27;ordinalencoder&#x27;,\n",
       "                                                  OrdinalEncoder(handle_unknown=&#x27;use_encoded_value&#x27;,\n",
       "                                                                 unknown_value=-1),\n",
       "                                                  [&#x27;country_code&#x27;, &#x27;state_code&#x27;,\n",
       "                                                   &#x27;region&#x27;, &#x27;city&#x27;,\n",
       "                                                   &#x27;lifetime_category&#x27;])])),\n",
       "                (&#x27;randomforestclassifier&#x27;,\n",
       "                 RandomForestClassifier(class_weight=&#x27;balanced&#x27;, max_depth=30,\n",
       "                                        n_estimators=300, random_state=42))])</pre></div></div></div><div class=\"sk-serial\"><div class=\"sk-item sk-dashed-wrapped\"><div class=\"sk-label-container\"><div class=\"sk-label sk-toggleable\"><input class=\"sk-toggleable__control sk-hidden--visually\" id=\"sk-estimator-id-14\" type=\"checkbox\" ><label for=\"sk-estimator-id-14\" class=\"sk-toggleable__label sk-toggleable__label-arrow\">columntransformer: ColumnTransformer</label><div class=\"sk-toggleable__content\"><pre>ColumnTransformer(transformers=[(&#x27;standardscaler&#x27;, StandardScaler(),\n",
       "                                 [&#x27;funding_total_usd&#x27;, &#x27;funding_rounds&#x27;,\n",
       "                                  &#x27;lifetime&#x27;]),\n",
       "                                (&#x27;ordinalencoder&#x27;,\n",
       "                                 OrdinalEncoder(handle_unknown=&#x27;use_encoded_value&#x27;,\n",
       "                                                unknown_value=-1),\n",
       "                                 [&#x27;country_code&#x27;, &#x27;state_code&#x27;, &#x27;region&#x27;,\n",
       "                                  &#x27;city&#x27;, &#x27;lifetime_category&#x27;])])</pre></div></div></div><div class=\"sk-parallel\"><div class=\"sk-parallel-item\"><div class=\"sk-item\"><div class=\"sk-label-container\"><div class=\"sk-label sk-toggleable\"><input class=\"sk-toggleable__control sk-hidden--visually\" id=\"sk-estimator-id-15\" type=\"checkbox\" ><label for=\"sk-estimator-id-15\" class=\"sk-toggleable__label sk-toggleable__label-arrow\">standardscaler</label><div class=\"sk-toggleable__content\"><pre>[&#x27;funding_total_usd&#x27;, &#x27;funding_rounds&#x27;, &#x27;lifetime&#x27;]</pre></div></div></div><div class=\"sk-serial\"><div class=\"sk-item\"><div class=\"sk-estimator sk-toggleable\"><input class=\"sk-toggleable__control sk-hidden--visually\" id=\"sk-estimator-id-16\" type=\"checkbox\" ><label for=\"sk-estimator-id-16\" class=\"sk-toggleable__label sk-toggleable__label-arrow\">StandardScaler</label><div class=\"sk-toggleable__content\"><pre>StandardScaler()</pre></div></div></div></div></div></div><div class=\"sk-parallel-item\"><div class=\"sk-item\"><div class=\"sk-label-container\"><div class=\"sk-label sk-toggleable\"><input class=\"sk-toggleable__control sk-hidden--visually\" id=\"sk-estimator-id-17\" type=\"checkbox\" ><label for=\"sk-estimator-id-17\" class=\"sk-toggleable__label sk-toggleable__label-arrow\">ordinalencoder</label><div class=\"sk-toggleable__content\"><pre>[&#x27;country_code&#x27;, &#x27;state_code&#x27;, &#x27;region&#x27;, &#x27;city&#x27;, &#x27;lifetime_category&#x27;]</pre></div></div></div><div class=\"sk-serial\"><div class=\"sk-item\"><div class=\"sk-estimator sk-toggleable\"><input class=\"sk-toggleable__control sk-hidden--visually\" id=\"sk-estimator-id-18\" type=\"checkbox\" ><label for=\"sk-estimator-id-18\" class=\"sk-toggleable__label sk-toggleable__label-arrow\">OrdinalEncoder</label><div class=\"sk-toggleable__content\"><pre>OrdinalEncoder(handle_unknown=&#x27;use_encoded_value&#x27;, unknown_value=-1)</pre></div></div></div></div></div></div></div></div><div class=\"sk-item\"><div class=\"sk-estimator sk-toggleable\"><input class=\"sk-toggleable__control sk-hidden--visually\" id=\"sk-estimator-id-19\" type=\"checkbox\" ><label for=\"sk-estimator-id-19\" class=\"sk-toggleable__label sk-toggleable__label-arrow\">RandomForestClassifier</label><div class=\"sk-toggleable__content\"><pre>RandomForestClassifier(class_weight=&#x27;balanced&#x27;, max_depth=30, n_estimators=300,\n",
       "                       random_state=42)</pre></div></div></div></div></div></div></div>"
      ],
      "text/plain": [
       "Pipeline(steps=[('columntransformer',\n",
       "                 ColumnTransformer(transformers=[('standardscaler',\n",
       "                                                  StandardScaler(),\n",
       "                                                  ['funding_total_usd',\n",
       "                                                   'funding_rounds',\n",
       "                                                   'lifetime']),\n",
       "                                                 ('ordinalencoder',\n",
       "                                                  OrdinalEncoder(handle_unknown='use_encoded_value',\n",
       "                                                                 unknown_value=-1),\n",
       "                                                  ['country_code', 'state_code',\n",
       "                                                   'region', 'city',\n",
       "                                                   'lifetime_category'])])),\n",
       "                ('randomforestclassifier',\n",
       "                 RandomForestClassifier(class_weight='balanced', max_depth=30,\n",
       "                                        n_estimators=300, random_state=42))])"
      ]
     },
     "execution_count": 63,
     "metadata": {},
     "output_type": "execute_result"
    }
   ],
   "source": [
    "pipeline.fit(train_X.drop('closed_at',axis=1), train_y)"
   ]
  },
  {
   "cell_type": "code",
   "execution_count": null,
   "id": "e002c0ab",
   "metadata": {},
   "outputs": [],
   "source": []
  },
  {
   "cell_type": "code",
   "execution_count": 64,
   "id": "ddf3e308",
   "metadata": {},
   "outputs": [],
   "source": [
    "threshold = 0.4\n",
    "predict_proba = pipeline.predict_proba(test_X.drop('closed_at',axis=1))\n",
    "predicted = (predict_proba[:,0] >= threshold).astype('int')"
   ]
  },
  {
   "cell_type": "code",
   "execution_count": 73,
   "id": "70431c9f",
   "metadata": {},
   "outputs": [],
   "source": [
    "predict = np.where(~test_X['closed_at'].isna()*1, 'closed', 'operating').tolist()"
   ]
  },
  {
   "cell_type": "code",
   "execution_count": 65,
   "id": "2f1c8e4f",
   "metadata": {},
   "outputs": [],
   "source": [
    "predict = np.where(predicted==1, 'closed', 'operating').tolist()"
   ]
  },
  {
   "cell_type": "code",
   "execution_count": 74,
   "id": "8318f2c4",
   "metadata": {},
   "outputs": [
    {
     "data": {
      "text/plain": [
       "1.0"
      ]
     },
     "execution_count": 74,
     "metadata": {},
     "output_type": "execute_result"
    }
   ],
   "source": [
    "f1_score(test_y, predict, pos_label='closed')"
   ]
  },
  {
   "cell_type": "code",
   "execution_count": null,
   "id": "a8da75d9",
   "metadata": {},
   "outputs": [],
   "source": [
    "from sklearn.metrics import ConfusionMatrixDisplay"
   ]
  },
  {
   "cell_type": "code",
   "execution_count": null,
   "id": "ee4c0037",
   "metadata": {},
   "outputs": [
    {
     "data": {
      "text/plain": [
       "<sklearn.metrics._plot.confusion_matrix.ConfusionMatrixDisplay at 0x7fa2b1672110>"
      ]
     },
     "execution_count": 47,
     "metadata": {},
     "output_type": "execute_result"
    },
    {
     "data": {
      "image/png": "[encoded data removed]",
      "text/plain": [
       "<Figure size 640x480 with 2 Axes>"
      ]
     },
     "metadata": {},
     "output_type": "display_data"
    }
   ],
   "source": [
    "ConfusionMatrixDisplay.from_predictions(test_y, predict)"
   ]
  },
  {
   "cell_type": "code",
   "execution_count": null,
   "id": "c431cb5d",
   "metadata": {},
   "outputs": [],
   "source": [
    "imp = pipeline.steps[-1][1].feature_importances_\n",
    "name = pipeline.steps[-2][1].get_feature_names_out()"
   ]
  },
  {
   "cell_type": "code",
   "execution_count": null,
   "id": "9966eee3",
   "metadata": {},
   "outputs": [
    {
     "data": {
      "text/plain": [
       "<Axes: >"
      ]
     },
     "execution_count": 49,
     "metadata": {},
     "output_type": "execute_result"
    },
    {
     "data": {
      "image/png": "[encoded data removed]",
      "text/plain": [
       "<Figure size 640x480 with 1 Axes>"
      ]
     },
     "metadata": {},
     "output_type": "display_data"
    }
   ],
   "source": [
    "pd.Series(index=name, data=imp).sort_values(ascending=False).plot(kind='bar')"
   ]
  },
  {
   "cell_type": "code",
   "execution_count": null,
   "id": "d237b0b4",
   "metadata": {},
   "outputs": [],
   "source": [
    "submit_predict = pd.DataFrame()\n",
    "submit_predict['name'] = test_df['name']\n",
    "submit_predict['status'] = predict\n",
    "submit_predict.to_csv('kaggle_startups_sample_submit_predict_01.csv', index=False)"
   ]
  },
  {
   "cell_type": "code",
   "execution_count": null,
   "id": "2d61805e",
   "metadata": {},
   "outputs": [
    {
     "data": {
      "text/html": [
       "<div>\n",
       "<style scoped>\n",
       "    .dataframe tbody tr th:only-of-type {\n",
       "        vertical-align: middle;\n",
       "    }\n",
       "\n",
       "    .dataframe tbody tr th {\n",
       "        vertical-align: top;\n",
       "    }\n",
       "\n",
       "    .dataframe thead th {\n",
       "        text-align: right;\n",
       "    }\n",
       "</style>\n",
       "<table border=\"1\" class=\"dataframe\">\n",
       "  <thead>\n",
       "    <tr style=\"text-align: right;\">\n",
       "      <th></th>\n",
       "      <th>name</th>\n",
       "      <th>status</th>\n",
       "    </tr>\n",
       "  </thead>\n",
       "  <tbody>\n",
       "    <tr>\n",
       "      <th>14075</th>\n",
       "      <td>Crystalsol</td>\n",
       "      <td>operating</td>\n",
       "    </tr>\n",
       "    <tr>\n",
       "      <th>29476</th>\n",
       "      <td>JBI Fish &amp; Wings</td>\n",
       "      <td>operating</td>\n",
       "    </tr>\n",
       "    <tr>\n",
       "      <th>12344</th>\n",
       "      <td>COINPLUS</td>\n",
       "      <td>operating</td>\n",
       "    </tr>\n",
       "    <tr>\n",
       "      <th>26995</th>\n",
       "      <td>Imagine Communications</td>\n",
       "      <td>operating</td>\n",
       "    </tr>\n",
       "    <tr>\n",
       "      <th>16031</th>\n",
       "      <td>DNA13</td>\n",
       "      <td>operating</td>\n",
       "    </tr>\n",
       "    <tr>\n",
       "      <th>...</th>\n",
       "      <td>...</td>\n",
       "      <td>...</td>\n",
       "    </tr>\n",
       "    <tr>\n",
       "      <th>30014</th>\n",
       "      <td>Jymob</td>\n",
       "      <td>operating</td>\n",
       "    </tr>\n",
       "    <tr>\n",
       "      <th>23244</th>\n",
       "      <td>GlobaTrek</td>\n",
       "      <td>operating</td>\n",
       "    </tr>\n",
       "    <tr>\n",
       "      <th>27704</th>\n",
       "      <td>Inkd.com</td>\n",
       "      <td>operating</td>\n",
       "    </tr>\n",
       "    <tr>\n",
       "      <th>1687</th>\n",
       "      <td>AdWill</td>\n",
       "      <td>operating</td>\n",
       "    </tr>\n",
       "    <tr>\n",
       "      <th>48462</th>\n",
       "      <td>RingCentral</td>\n",
       "      <td>operating</td>\n",
       "    </tr>\n",
       "  </tbody>\n",
       "</table>\n",
       "<p>13211 rows × 2 columns</p>\n",
       "</div>"
      ],
      "text/plain": [
       "                         name     status\n",
       "14075              Crystalsol  operating\n",
       "29476        JBI Fish & Wings  operating\n",
       "12344                COINPLUS  operating\n",
       "26995  Imagine Communications  operating\n",
       "16031                   DNA13  operating\n",
       "...                       ...        ...\n",
       "30014                   Jymob  operating\n",
       "23244               GlobaTrek  operating\n",
       "27704                Inkd.com  operating\n",
       "1687                   AdWill  operating\n",
       "48462             RingCentral  operating\n",
       "\n",
       "[13211 rows x 2 columns]"
      ]
     },
     "execution_count": 51,
     "metadata": {},
     "output_type": "execute_result"
    }
   ],
   "source": [
    "submit_predict"
   ]
  },
  {
   "cell_type": "code",
   "execution_count": null,
   "id": "e4e47624",
   "metadata": {},
   "outputs": [
    {
     "data": {
      "text/plain": [
       "((13211, 3), (13211, 15), (13211, 2))"
      ]
     },
     "execution_count": 52,
     "metadata": {},
     "output_type": "execute_result"
    }
   ],
   "source": [
    "ground_truth_df.shape, test_df.shape, submit_predict.shape"
   ]
  },
  {
   "cell_type": "code",
   "execution_count": null,
   "id": "2f4b6b29",
   "metadata": {},
   "outputs": [],
   "source": []
  }
 ],
 "metadata": {
  "hide_input": false,
  "kernelspec": {
   "display_name": "base",
   "language": "python",
   "name": "python3"
  },
  "language_info": {
   "codemirror_mode": {
    "name": "ipython",
    "version": 3
   },
   "file_extension": ".py",
   "mimetype": "text/x-python",
   "name": "python",
   "nbconvert_exporter": "python",
   "pygments_lexer": "ipython3",
   "version": "3.11.7"
  },
  "toc": {
   "base_numbering": 1,
   "nav_menu": {},
   "number_sections": true,
   "sideBar": true,
   "skip_h1_title": false,
   "title_cell": "Оглавление",
   "title_sidebar": "Contents",
   "toc_cell": true,
   "toc_position": {},
   "toc_section_display": true,
   "toc_window_display": false
  }
 },
 "nbformat": 4,
 "nbformat_minor": 5
}
